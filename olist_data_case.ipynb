{
 "cells": [
  {
   "cell_type": "markdown",
   "metadata": {},
   "source": [
    "# Analysis database Olist - Kaggle"
   ]
  },
  {
   "cell_type": "code",
   "execution_count": 1,
   "metadata": {},
   "outputs": [],
   "source": [
    "#Packages\n",
    "import geopy as geo\n",
    "import pandas as pd\n",
    "import numpy as np\n",
    "import geopandas as gpd\n",
    "from unidecode import unidecode \n",
    "import folium\n",
    "from folium.plugins  import HeatMap\n",
    "import plotly.graph_objects as go"
   ]
  },
  {
   "cell_type": "markdown",
   "metadata": {},
   "source": [
    "#### Database source"
   ]
  },
  {
   "cell_type": "code",
   "execution_count": 2,
   "metadata": {},
   "outputs": [],
   "source": [
    "customer = pd.read_csv('data/olist_customers_dataset.csv')\n",
    "order = pd.read_csv('data/olist_orders_dataset.csv')\n",
    "item = pd.read_csv('data/olist_order_items_dataset.csv')\n",
    "products = pd.read_csv('data/olist_products_dataset.csv')\n",
    "location= pd.read_csv('data/olist_geolocation_dataset.csv')\n",
    "sellers = pd.read_csv('data/olist_sellers_dataset.csv')\n",
    "product_info=pd.merge(products,item, on = 'product_id')\n",
    "product_info = product_info[['product_id', 'product_category_name','order_id', 'order_item_id', 'seller_id','price', 'freight_value']]\n",
    "product_info = pd.merge(product_info,order,on = 'order_id')\n",
    "product_info = pd.merge(product_info,customer, on = 'customer_id')"
   ]
  },
  {
   "cell_type": "markdown",
   "metadata": {},
   "source": [
    "#### Data Clean"
   ]
  },
  {
   "cell_type": "code",
   "execution_count": 3,
   "metadata": {},
   "outputs": [],
   "source": [
    "# Applying unidecode\n",
    "from unidecode import unidecode \n",
    "location['geolocation_city']= location['geolocation_city'].apply(lambda x : unidecode(x))\n",
    "# Fixing some places\n",
    "location.loc[430999,['geolocation_state']] = 'RJ'\n",
    "location.loc[460406,['geolocation_state']] = 'RJ'\n",
    "location.loc[72852,['geolocation_state']] = 'SP'\n",
    "location.loc[840047,['geolocation_state']] = 'MS'\n",
    "location.loc[22261,['geolocation_state']] = 'SP'\n",
    "# Base location of places \n",
    "location = location.groupby(['geolocation_state','geolocation_city','geolocation_zip_code_prefix'],as_index=False).agg({\"geolocation_lat\" :np.mean,\"geolocation_lng\" :np.mean})\n",
    "# Geo coordinate locationizations\n",
    "gdf = gpd.GeoDataFrame(location, geometry=gpd.points_from_xy(location.geolocation_lng, location.geolocation_lat, crs = 'EPSG:4326'))\n",
    "location['estado-cidade'] = location['geolocation_state'] + \"-\"+ location['geolocation_city']\n",
    "#Capitals Location\n",
    "capitais_location = location.loc[location['estado-cidade'].isin(['AC-rio branco','AL-maceio','AP-macapa','AM-manaus','BA-salvador','CE-fortaleza','ES-vitoria','GO-goiania','MA-sao luis','MT-cuiaba','MS-campo grande','MG-belo horizonte','PA-belem','PB-joao pessoa','PR-curitiba','PE-recife','PI-teresina','RJ-rio de janeiro','RN-natal','RS-porto alegre','RO-porto velho','RR-boa vista','SC-florianopolis','SP-sao paulo','SE-aracaju','TO-palmas','DF-brasilia'])][['geolocation_state','geolocation_city','geolocation_lat','geolocation_lng']].drop_duplicates()\n",
    "capitais_location  = capitais_location.groupby(['geolocation_state','geolocation_city'], as_index=False).agg({'geolocation_lat':np.average,'geolocation_lng':np.average})"
   ]
  },
  {
   "cell_type": "markdown",
   "metadata": {},
   "source": [
    "## Data Transformation and extraction of sales information"
   ]
  },
  {
   "cell_type": "code",
   "execution_count": 4,
   "metadata": {},
   "outputs": [],
   "source": [
    "# Creation of daframe with what each sellers have\n",
    "seller_info = pd.merge(sellers,product_info, on = 'seller_id')\n",
    "# Grouping by the amount of order that the sellers had\n",
    "seller_sales = seller_info.groupby(by = (['seller_id','seller_city','seller_state','product_category_name','seller_zip_code_prefix']), as_index= False).agg({'price': np.sum, 'freight_value': np.sum,'order_id' :np.size})\n",
    "seller_sales = seller_sales.rename(columns ={'order_id': 'Amount of orders','price':'Orders cost(R$)', 'freight_value':'Freight cost(R$)'})\n",
    "# Getting the average cost of the the orders \n",
    "seller_sales['Average cost of orders'] = round(seller_sales['Orders cost(R$)']/seller_sales['Amount of orders'],2)\n",
    "# Getting the total value \n",
    "seller_sales['Total Cost(R$)'] = seller_sales['Orders cost(R$)'] + seller_sales['Freight cost(R$)']\n",
    "# Getting sellers information \n",
    "seller_cnpj = seller_info[['seller_id','product_category_name','seller_zip_code_prefix','seller_city','seller_state']].drop_duplicates()\n",
    "# Getting sellers category\n",
    "seller_category = seller_info[['seller_id','product_category_name']].drop_duplicates()\n",
    "# Amount of seller by each category\n",
    "seller_qty_category= seller_category.groupby('seller_id',as_index = False).size()\n",
    "# Seller sales numbers \n",
    "seller_sales.sort_values([\"Amount of orders\",\"Orders cost(R$)\",\"Freight cost(R$)\"], ascending=False,ignore_index=True).head(20)\n",
    "seller_sales_st = seller_info.groupby(by = (['seller_state','product_category_name']), as_index= False).agg({'price': np.sum, 'freight_value': np.sum,'order_id' :np.size,'seller_id':np.size})"
   ]
  },
  {
   "cell_type": "markdown",
   "metadata": {},
   "source": [
    "## Classes"
   ]
  },
  {
   "cell_type": "markdown",
   "metadata": {},
   "source": [
    "#### 1 - Estimation of the distance of each customer to the sellers"
   ]
  },
  {
   "cell_type": "code",
   "execution_count": null,
   "metadata": {},
   "outputs": [],
   "source": [
    "class sellers_information():\n",
    "\n",
    "    def __init__(self,seller):\n",
    "        self.__seller = seller\n",
    "\n",
    "    @property\n",
    "    def seller_location(self):\n",
    "            seller_location = sellers.loc[sellers['seller_id'].isin(self.__seller)]\n",
    "            return seller_location\n",
    "    \n",
    "    def mycustomers(self):\n",
    "        ''' \n",
    "            This function will calculate the distance to from the seller for each customer in the database. \n",
    "            The seller code is the mandatory field this function is using the Projected coordinate system for Brazil : EPSG 31983 (SIRGAS 2000). \n",
    "            The distance formula is : \n",
    "                Distance = (RadiusEarthKM * (2 * ArcSin(Sqr((Sin((Lat1 - Lat2)/2)2) + Cos(Lat1) * Cos(Lat2) * (Sin((Lon1 - Lon2)/2)2)))))\n",
    "            The function will return a pandas dataframe with the sellers id, customer id, customer city, customer state, the average price of this product category amd the freight cost.\n",
    "        '''        \n",
    "        try:\n",
    "            # Verification if the seller id is the base    \n",
    "            seller_location = sellers.loc[sellers['seller_id'].isin(self.__seller)]\n",
    "            # Getting the seller orders\n",
    "            seller_orders = product_info.loc[product_info['seller_id'].isin(self.__seller) ]\n",
    "            # Identifying each customer that bought any product that the seller has\n",
    "            clients = seller_orders.loc[seller_orders['seller_id'].isin(self.__seller)]['customer_id']\n",
    "            # Identification of each customer that are in the database\n",
    "            clients_location = customer.loc[customer['customer_id'].isin(clients)]\n",
    "            # Getting the seller location\n",
    "            seller_location = pd.merge(seller_location,location, how = 'left', left_on ='seller_zip_code_prefix', right_on= 'geolocation_zip_code_prefix')\n",
    "            # Tranforming the geo coordinates to geopandas dataframe with EPSG: 4326\n",
    "            seller_location =  gpd.GeoDataFrame(seller_location, geometry=gpd.points_from_xy(seller_location.geolocation_lng, seller_location.geolocation_lat, crs = 'EPSG:4326'))\n",
    "            # Transforming the geo points to EPSG 31983\n",
    "            seller_location = seller_location.to_crs('EPSG:31983')\n",
    "            # Getting customers locations \n",
    "            clients_location = pd.merge(clients_location,location, how = 'left', left_on ='customer_zip_code_prefix', right_on= 'geolocation_zip_code_prefix')\n",
    "            # Tranforming the geo coordinates to geopandas dataframe with EPSG: 4326\n",
    "            clients_location =  gpd.GeoDataFrame(clients_location, geometry=gpd.points_from_xy(clients_location.geolocation_lng, clients_location.geolocation_lat, crs = 'EPSG:4326'))\n",
    "            # Transforming the geo points to EPSG 31983\n",
    "            clients_location = clients_location.to_crs('EPSG:31983')\n",
    "            # Duplicates remotion\n",
    "            seller_location= seller_location.drop_duplicates(subset='seller_id')\n",
    "            clients_location = clients_location.drop_duplicates(subset = 'customer_unique_id')\n",
    "            # Creation of distance dataframe\n",
    "            df_distance = pd.DataFrame(columns=['seller_id','customer_unique_id','distance (KM)'])\n",
    "            # Identifying sellers and their clients \n",
    "            seller_ids = seller_location['seller_id'].tolist()\n",
    "            client_ids = clients_location['customer_unique_id'].tolist()\n",
    "            for s_id in seller_ids:\n",
    "                seller_pt = seller_location[seller_location.seller_id==s_id]['geometry'].reset_index()\n",
    "                # Distance calculation\n",
    "                for c_id in client_ids:\n",
    "                    client_pt = clients_location[clients_location.customer_unique_id==c_id]['geometry'].reset_index()\n",
    "                    d = seller_pt.distance(client_pt).tolist()[0] \n",
    "                    df_length = len(df_distance)\n",
    "                    df_distance.loc[df_length] = [s_id,c_id,d]\n",
    "            # Dataframe Creation\n",
    "            df_distance = pd.merge(df_distance,clients_location,on = 'customer_unique_id')\n",
    "            df_distance = pd.merge(seller_orders,df_distance, on = (['seller_id','customer_unique_id']))\n",
    "            df_distance =  df_distance[['seller_id','customer_unique_id', 'distance (KM)','customer_city_x','customer_state_x','price', 'freight_value']]\n",
    "            df_distance['distance (KM)'] = (df_distance['distance (KM)']/1000).round(2)\n",
    "            df_distance = df_distance.rename(columns ={'customer_city_x':'customer_city','customer_state_x':'customer_state','price': 'order_value'})\n",
    "            return df_distance\n",
    "        except:\n",
    "            msg = 'Sales id not found'\n",
    "            return msg"
   ]
  },
  {
   "cell_type": "markdown",
   "metadata": {},
   "source": [
    "####  Sellers informations class example"
   ]
  },
  {
   "cell_type": "code",
   "execution_count": null,
   "metadata": {},
   "outputs": [],
   "source": [
    "x = sellers_information(sellers.head(2)['seller_id'])\n",
    "\n",
    "print(x.seller_location)\n",
    "\n",
    "x.mycustomers()"
   ]
  },
  {
   "cell_type": "markdown",
   "metadata": {},
   "source": [
    "### 2. Class to choose the best option to buy or the closest seller or the best price"
   ]
  },
  {
   "cell_type": "code",
   "execution_count": 15,
   "metadata": {},
   "outputs": [],
   "source": [
    "class best_buy():\n",
    "\n",
    "    def __init__(self,client,category,no_register,type):\n",
    "        self.__client = client\n",
    "        self.__category = category\n",
    "        self.__no_register = no_register\n",
    "        self.__type = type\n",
    "    \n",
    "    def best_solution(self):\n",
    "        ''' \n",
    "        This function enable to look for the best price for clients and for the closest seller or just the closest. In the case of best price, the priority will be the price following the minimal distance. \n",
    "        The arguments are mandatory : Client ID, product category, amount of sellers ,and type of buy fast or best_price.\n",
    "        This function is using the Projected coordinate system for Brazil : EPSG 31983 (SIRGAS 2000). \n",
    "        The distance formula is : \n",
    "            Distance = (RadiusEarthKM * (2 * ArcSin(Sqr((Sin((Lat1 - Lat2)/2)2) + Cos(Lat1) * Cos(Lat2) * (Sin((Lon1 - Lon2)/2)2)))))\n",
    "        The function will return a pandas dataframe with the customer id, customer city, customer state, sellers id, the amount of orders of this seller, distance, the average price of this product category amd the freight cost.\n",
    "        '''\n",
    "        # Customer identification \n",
    "        customer_location = customer.loc[customer['customer_unique_id']==self.__client]\n",
    "        # Product category identification\n",
    "        seller_cat = seller_cnpj.loc[seller_cnpj['product_category_name'] ==self.__category]\n",
    "        # Sellers category identification\n",
    "        seller_venda_in = seller_sales.loc[seller_sales['product_category_name'] ==self.__category]\n",
    "        # Seller location \n",
    "        seller_location= pd.merge(seller_cat,location, how = 'left', left_on ='seller_zip_code_prefix', right_on= 'geolocation_zip_code_prefix')\n",
    "        # Tranforming the geo coordinates to geopandas dataframe with EPSG: 4326\n",
    "        seller_location=  gpd.GeoDataFrame(seller_location, geometry=gpd.points_from_xy(seller_location.geolocation_lng, seller_location.geolocation_lat, crs = 'EPSG:4326'))\n",
    "        # Seller location transformation to EPSG 31983\n",
    "        seller_location= seller_location.to_crs('EPSG:31983')\n",
    "        # Client location \n",
    "        customer_location = pd.merge(customer_location,location, how = 'left', left_on ='customer_zip_code_prefix', right_on= 'geolocation_zip_code_prefix')\n",
    "        # Client location transformation to EPSG 31983\n",
    "        customer_location =  gpd.GeoDataFrame(customer_location, geometry=gpd.points_from_xy(customer_location.geolocation_lng, customer_location.geolocation_lat, crs = 'EPSG:4326'))\n",
    "        customer_location = customer_location.to_crs('EPSG:31983')\n",
    "        # Duplicates remotion\n",
    "        seller_location= seller_location.drop_duplicates(subset='seller_id')\n",
    "        customer_location = customer_location.drop_duplicates(subset = 'customer_unique_id')\n",
    "        # Creation of distance dataframe\n",
    "        df_distance = pd.DataFrame(columns=['customer_unique_id','seller_id','Distance (KM)'])\n",
    "        # Sending the sellers and client \n",
    "        seller_ids = seller_location['seller_id'].tolist()\n",
    "        client_ids = customer_location['customer_unique_id'].tolist()\n",
    "        # Identifying each seller to the client\n",
    "        for c_id in client_ids:\n",
    "            client_pt = customer_location[customer_location.customer_unique_id==c_id]['geometry'].reset_index()\n",
    "            # Distance calculation\n",
    "            for s_id in seller_ids:\n",
    "                    seller_pt = seller_location[seller_location.seller_id==s_id]['geometry'].reset_index()\n",
    "                    d = client_pt.distance(seller_pt).tolist()[0]\n",
    "                    df_length = len(df_distance)\n",
    "                    df_distance.loc[df_length] = [c_id,s_id,d]\n",
    "        # Dataframe creation\n",
    "        df_distance = df_distance.drop_duplicates()\n",
    "        df_distance = pd.merge(df_distance,customer_location,on = 'customer_unique_id')\n",
    "        df_distance = pd.merge(seller_venda_in  ,df_distance, on = ('seller_id'))\n",
    "        df_distance = df_distance[['customer_unique_id', 'customer_city','customer_state','seller_id','product_category_name', 'seller_city', 'seller_state','Amount of orders','Orders cost(R$)','Freight cost(R$)','Distance (KM)','Total Cost(R$)','Average cost of orders']]\n",
    "        df_distance['Distance (KM)'] = (df_distance['Distance (KM)']/1000).round(2)\n",
    "        # Type of buy \n",
    "        if self.__type == 'fast':\n",
    "            df_distance = df_distance.sort_values([\"Distance (KM)\"], ascending=True,ignore_index=True).head(self.__no_register)\n",
    "        elif self.__type == 'best_price':\n",
    "            df_distance = df_distance.sort_values([\"Average cost of orders\",\"Distance (KM)\"], ascending=True,ignore_index=True).head(self.__no_register)\n",
    "        return df_distance\n",
    "\n",
    "    def best_map(self):\n",
    "        ''' \n",
    "        This function will return a geografical map with the customer location and the seller. \n",
    "        The customer id is the first mandatory argument, the product category is the second mandatory field and the distance dataframe from the responsive function is the third mandatory argument.\n",
    "        The map will be created using the free OpenStreetMap API, the blue marker represents the customer and the green markers represents the sellers.\n",
    "        '''\n",
    "        # Values of reponsive \n",
    "        d = self.best_solution()\n",
    "        # Identifying the customer \n",
    "        customer_location = customer.loc[customer['customer_unique_id']==self.__client]\n",
    "        # Getting the customer zip code \n",
    "        customer_location = pd.merge(customer_location,location, how = 'left', left_on ='customer_zip_code_prefix', right_on= 'geolocation_zip_code_prefix')\n",
    "        # Tranforming the geo coordinates to geopandas dataframe with EPSG: 4326\n",
    "        customer_location =  gpd.GeoDataFrame(customer_location, geometry=gpd.points_from_xy(customer_location.geolocation_lng, customer_location.geolocation_lat, crs = 'EPSG:4326'))\n",
    "        # Customer location transformation to EPSG 31983\n",
    "        customer_location = customer_location.to_crs('EPSG:31983')\n",
    "        # Identifying the sellers that fulfill the order\n",
    "        seller_cat = seller_cnpj.loc[seller_cnpj['product_category_name'] ==self.__category]\n",
    "        # Getting the seller zip code \n",
    "        seller_location= pd.merge(seller_cat,location, how = 'left', left_on ='seller_zip_code_prefix', right_on= 'geolocation_zip_code_prefix')\n",
    "        # Tranforming the geo coordinates to geopandas dataframe with EPSG: 4326\n",
    "        seller_location=  gpd.GeoDataFrame(seller_location, geometry=gpd.points_from_xy(seller_location.geolocation_lng, seller_location.geolocation_lat, crs = 'EPSG:4326'))\n",
    "        # Customer location transformation to EPSG 31983\n",
    "        seller_location= seller_location.to_crs('EPSG:31983')\n",
    "        # Sending the values a list and using the API to display a map\n",
    "        coordinates = seller_location.loc[seller_location['seller_id'].isin(d['seller_id'])][['geolocation_lat','geolocation_lng']].values.tolist()\n",
    "        # Type of buy\n",
    "        if self.__type == 'fast':\n",
    "            p_zoom_start = 13\n",
    "        elif self.__type == 'best_price':\n",
    "            p_zoom_start = 7   \n",
    "        # Creation of the map\n",
    "        m = folium.Map(location=[customer_location['geolocation_lat'],customer_location['geolocation_lng']],\n",
    "                   API_key=  \"AjPvKPz1j2wCaJdCMYdWL3XaRpCMhbdyhArjG7VIMHflQuqcZY4HrMnn9vGhJWQC\",zoom_start=p_zoom_start)\n",
    "        # Addition of the client marker in the map\n",
    "        folium.Marker([customer_location['geolocation_lat'],customer_location['geolocation_lng']], popup=\"<i> customer localization </i>\").add_to(m)\n",
    "        # Addition of the sellers in the map\n",
    "        for i, j in coordinates:\n",
    "            folium.Marker([i,j], popup=\"<i> seller localization </i>\",icon=folium.Icon(color='green')).add_to(m)\n",
    "        return m "
   ]
  },
  {
   "cell_type": "code",
   "execution_count": 17,
   "metadata": {},
   "outputs": [
    {
     "data": {
      "text/html": [
       "<div style=\"width:100%;\"><div style=\"position:relative;width:100%;height:0;padding-bottom:60%;\"><span style=\"color:#565656\">Make this Notebook Trusted to load map: File -> Trust Notebook</span><iframe src=\"about:blank\" style=\"position:absolute;width:100%;height:100%;left:0;top:0;border:none !important;\" data-html=%3C%21DOCTYPE%20html%3E%0A%3Chead%3E%20%20%20%20%0A%20%20%20%20%3Cmeta%20http-equiv%3D%22content-type%22%20content%3D%22text/html%3B%20charset%3DUTF-8%22%20/%3E%0A%20%20%20%20%0A%20%20%20%20%20%20%20%20%3Cscript%3E%0A%20%20%20%20%20%20%20%20%20%20%20%20L_NO_TOUCH%20%3D%20false%3B%0A%20%20%20%20%20%20%20%20%20%20%20%20L_DISABLE_3D%20%3D%20false%3B%0A%20%20%20%20%20%20%20%20%3C/script%3E%0A%20%20%20%20%0A%20%20%20%20%3Cstyle%3Ehtml%2C%20body%20%7Bwidth%3A%20100%25%3Bheight%3A%20100%25%3Bmargin%3A%200%3Bpadding%3A%200%3B%7D%3C/style%3E%0A%20%20%20%20%3Cstyle%3E%23map%20%7Bposition%3Aabsolute%3Btop%3A0%3Bbottom%3A0%3Bright%3A0%3Bleft%3A0%3B%7D%3C/style%3E%0A%20%20%20%20%3Cscript%20src%3D%22https%3A//cdn.jsdelivr.net/npm/leaflet%401.6.0/dist/leaflet.js%22%3E%3C/script%3E%0A%20%20%20%20%3Cscript%20src%3D%22https%3A//code.jquery.com/jquery-1.12.4.min.js%22%3E%3C/script%3E%0A%20%20%20%20%3Cscript%20src%3D%22https%3A//maxcdn.bootstrapcdn.com/bootstrap/3.2.0/js/bootstrap.min.js%22%3E%3C/script%3E%0A%20%20%20%20%3Cscript%20src%3D%22https%3A//cdnjs.cloudflare.com/ajax/libs/Leaflet.awesome-markers/2.0.2/leaflet.awesome-markers.js%22%3E%3C/script%3E%0A%20%20%20%20%3Clink%20rel%3D%22stylesheet%22%20href%3D%22https%3A//cdn.jsdelivr.net/npm/leaflet%401.6.0/dist/leaflet.css%22/%3E%0A%20%20%20%20%3Clink%20rel%3D%22stylesheet%22%20href%3D%22https%3A//maxcdn.bootstrapcdn.com/bootstrap/3.2.0/css/bootstrap.min.css%22/%3E%0A%20%20%20%20%3Clink%20rel%3D%22stylesheet%22%20href%3D%22https%3A//maxcdn.bootstrapcdn.com/bootstrap/3.2.0/css/bootstrap-theme.min.css%22/%3E%0A%20%20%20%20%3Clink%20rel%3D%22stylesheet%22%20href%3D%22https%3A//maxcdn.bootstrapcdn.com/font-awesome/4.6.3/css/font-awesome.min.css%22/%3E%0A%20%20%20%20%3Clink%20rel%3D%22stylesheet%22%20href%3D%22https%3A//cdnjs.cloudflare.com/ajax/libs/Leaflet.awesome-markers/2.0.2/leaflet.awesome-markers.css%22/%3E%0A%20%20%20%20%3Clink%20rel%3D%22stylesheet%22%20href%3D%22https%3A//cdn.jsdelivr.net/gh/python-visualization/folium/folium/templates/leaflet.awesome.rotate.min.css%22/%3E%0A%20%20%20%20%0A%20%20%20%20%20%20%20%20%20%20%20%20%3Cmeta%20name%3D%22viewport%22%20content%3D%22width%3Ddevice-width%2C%0A%20%20%20%20%20%20%20%20%20%20%20%20%20%20%20%20initial-scale%3D1.0%2C%20maximum-scale%3D1.0%2C%20user-scalable%3Dno%22%20/%3E%0A%20%20%20%20%20%20%20%20%20%20%20%20%3Cstyle%3E%0A%20%20%20%20%20%20%20%20%20%20%20%20%20%20%20%20%23map_b01cf1a1555c460e94dc17c4291bc180%20%7B%0A%20%20%20%20%20%20%20%20%20%20%20%20%20%20%20%20%20%20%20%20position%3A%20relative%3B%0A%20%20%20%20%20%20%20%20%20%20%20%20%20%20%20%20%20%20%20%20width%3A%20100.0%25%3B%0A%20%20%20%20%20%20%20%20%20%20%20%20%20%20%20%20%20%20%20%20height%3A%20100.0%25%3B%0A%20%20%20%20%20%20%20%20%20%20%20%20%20%20%20%20%20%20%20%20left%3A%200.0%25%3B%0A%20%20%20%20%20%20%20%20%20%20%20%20%20%20%20%20%20%20%20%20top%3A%200.0%25%3B%0A%20%20%20%20%20%20%20%20%20%20%20%20%20%20%20%20%7D%0A%20%20%20%20%20%20%20%20%20%20%20%20%3C/style%3E%0A%20%20%20%20%20%20%20%20%0A%3C/head%3E%0A%3Cbody%3E%20%20%20%20%0A%20%20%20%20%0A%20%20%20%20%20%20%20%20%20%20%20%20%3Cdiv%20class%3D%22folium-map%22%20id%3D%22map_b01cf1a1555c460e94dc17c4291bc180%22%20%3E%3C/div%3E%0A%20%20%20%20%20%20%20%20%0A%3C/body%3E%0A%3Cscript%3E%20%20%20%20%0A%20%20%20%20%0A%20%20%20%20%20%20%20%20%20%20%20%20var%20map_b01cf1a1555c460e94dc17c4291bc180%20%3D%20L.map%28%0A%20%20%20%20%20%20%20%20%20%20%20%20%20%20%20%20%22map_b01cf1a1555c460e94dc17c4291bc180%22%2C%0A%20%20%20%20%20%20%20%20%20%20%20%20%20%20%20%20%7B%0A%20%20%20%20%20%20%20%20%20%20%20%20%20%20%20%20%20%20%20%20center%3A%20%5B-20.498488755380297%2C%20-47.396929485900976%5D%2C%0A%20%20%20%20%20%20%20%20%20%20%20%20%20%20%20%20%20%20%20%20crs%3A%20L.CRS.EPSG3857%2C%0A%20%20%20%20%20%20%20%20%20%20%20%20%20%20%20%20%20%20%20%20zoom%3A%2013%2C%0A%20%20%20%20%20%20%20%20%20%20%20%20%20%20%20%20%20%20%20%20zoomControl%3A%20true%2C%0A%20%20%20%20%20%20%20%20%20%20%20%20%20%20%20%20%20%20%20%20preferCanvas%3A%20false%2C%0A%20%20%20%20%20%20%20%20%20%20%20%20%20%20%20%20%20%20%20%20APIKey%3A%20%22AjPvKPz1j2wCaJdCMYdWL3XaRpCMhbdyhArjG7VIMHflQuqcZY4HrMnn9vGhJWQC%22%2C%0A%20%20%20%20%20%20%20%20%20%20%20%20%20%20%20%20%7D%0A%20%20%20%20%20%20%20%20%20%20%20%20%29%3B%0A%0A%20%20%20%20%20%20%20%20%20%20%20%20%0A%0A%20%20%20%20%20%20%20%20%0A%20%20%20%20%0A%20%20%20%20%20%20%20%20%20%20%20%20var%20tile_layer_b70e33b839e442e082323830cef555ca%20%3D%20L.tileLayer%28%0A%20%20%20%20%20%20%20%20%20%20%20%20%20%20%20%20%22https%3A//%7Bs%7D.tile.openstreetmap.org/%7Bz%7D/%7Bx%7D/%7By%7D.png%22%2C%0A%20%20%20%20%20%20%20%20%20%20%20%20%20%20%20%20%7B%22attribution%22%3A%20%22Data%20by%20%5Cu0026copy%3B%20%5Cu003ca%20href%3D%5C%22http%3A//openstreetmap.org%5C%22%5Cu003eOpenStreetMap%5Cu003c/a%5Cu003e%2C%20under%20%5Cu003ca%20href%3D%5C%22http%3A//www.openstreetmap.org/copyright%5C%22%5Cu003eODbL%5Cu003c/a%5Cu003e.%22%2C%20%22detectRetina%22%3A%20false%2C%20%22maxNativeZoom%22%3A%2018%2C%20%22maxZoom%22%3A%2018%2C%20%22minZoom%22%3A%200%2C%20%22noWrap%22%3A%20false%2C%20%22opacity%22%3A%201%2C%20%22subdomains%22%3A%20%22abc%22%2C%20%22tms%22%3A%20false%7D%0A%20%20%20%20%20%20%20%20%20%20%20%20%29.addTo%28map_b01cf1a1555c460e94dc17c4291bc180%29%3B%0A%20%20%20%20%20%20%20%20%0A%20%20%20%20%0A%20%20%20%20%20%20%20%20%20%20%20%20var%20marker_408d8d924be342f6b06099b7151d0c5f%20%3D%20L.marker%28%0A%20%20%20%20%20%20%20%20%20%20%20%20%20%20%20%20%5B-20.498488755380297%2C%20-47.396929485900976%5D%2C%0A%20%20%20%20%20%20%20%20%20%20%20%20%20%20%20%20%7B%7D%0A%20%20%20%20%20%20%20%20%20%20%20%20%29.addTo%28map_b01cf1a1555c460e94dc17c4291bc180%29%3B%0A%20%20%20%20%20%20%20%20%0A%20%20%20%20%0A%20%20%20%20%20%20%20%20var%20popup_c5fee7d3a68c4384a657a2333539dd43%20%3D%20L.popup%28%7B%22maxWidth%22%3A%20%22100%25%22%7D%29%3B%0A%0A%20%20%20%20%20%20%20%20%0A%20%20%20%20%20%20%20%20%20%20%20%20var%20html_29304120b4ba452a90f308ee49ac6017%20%3D%20%24%28%60%3Cdiv%20id%3D%22html_29304120b4ba452a90f308ee49ac6017%22%20style%3D%22width%3A%20100.0%25%3B%20height%3A%20100.0%25%3B%22%3E%3Ci%3E%20customer%20localization%20%3C/i%3E%3C/div%3E%60%29%5B0%5D%3B%0A%20%20%20%20%20%20%20%20%20%20%20%20popup_c5fee7d3a68c4384a657a2333539dd43.setContent%28html_29304120b4ba452a90f308ee49ac6017%29%3B%0A%20%20%20%20%20%20%20%20%0A%0A%20%20%20%20%20%20%20%20marker_408d8d924be342f6b06099b7151d0c5f.bindPopup%28popup_c5fee7d3a68c4384a657a2333539dd43%29%0A%20%20%20%20%20%20%20%20%3B%0A%0A%20%20%20%20%20%20%20%20%0A%20%20%20%20%0A%20%20%20%20%0A%20%20%20%20%20%20%20%20%20%20%20%20var%20marker_38a4745047a441aea58f5cd86b9d2027%20%3D%20L.marker%28%0A%20%20%20%20%20%20%20%20%20%20%20%20%20%20%20%20%5B-20.496232463151177%2C%20-47.41844799088727%5D%2C%0A%20%20%20%20%20%20%20%20%20%20%20%20%20%20%20%20%7B%7D%0A%20%20%20%20%20%20%20%20%20%20%20%20%29.addTo%28map_b01cf1a1555c460e94dc17c4291bc180%29%3B%0A%20%20%20%20%20%20%20%20%0A%20%20%20%20%0A%20%20%20%20%20%20%20%20%20%20%20%20var%20icon_c6cf7d95719c4311bf4e866ac939db29%20%3D%20L.AwesomeMarkers.icon%28%0A%20%20%20%20%20%20%20%20%20%20%20%20%20%20%20%20%7B%22extraClasses%22%3A%20%22fa-rotate-0%22%2C%20%22icon%22%3A%20%22info-sign%22%2C%20%22iconColor%22%3A%20%22white%22%2C%20%22markerColor%22%3A%20%22green%22%2C%20%22prefix%22%3A%20%22glyphicon%22%7D%0A%20%20%20%20%20%20%20%20%20%20%20%20%29%3B%0A%20%20%20%20%20%20%20%20%20%20%20%20marker_38a4745047a441aea58f5cd86b9d2027.setIcon%28icon_c6cf7d95719c4311bf4e866ac939db29%29%3B%0A%20%20%20%20%20%20%20%20%0A%20%20%20%20%0A%20%20%20%20%20%20%20%20var%20popup_c5b4118565984f6c965842fe33c0325a%20%3D%20L.popup%28%7B%22maxWidth%22%3A%20%22100%25%22%7D%29%3B%0A%0A%20%20%20%20%20%20%20%20%0A%20%20%20%20%20%20%20%20%20%20%20%20var%20html_66c6876bc0ff4ec787209ce4d68c1b68%20%3D%20%24%28%60%3Cdiv%20id%3D%22html_66c6876bc0ff4ec787209ce4d68c1b68%22%20style%3D%22width%3A%20100.0%25%3B%20height%3A%20100.0%25%3B%22%3E%3Ci%3E%20seller%20localization%20%3C/i%3E%3C/div%3E%60%29%5B0%5D%3B%0A%20%20%20%20%20%20%20%20%20%20%20%20popup_c5b4118565984f6c965842fe33c0325a.setContent%28html_66c6876bc0ff4ec787209ce4d68c1b68%29%3B%0A%20%20%20%20%20%20%20%20%0A%0A%20%20%20%20%20%20%20%20marker_38a4745047a441aea58f5cd86b9d2027.bindPopup%28popup_c5b4118565984f6c965842fe33c0325a%29%0A%20%20%20%20%20%20%20%20%3B%0A%0A%20%20%20%20%20%20%20%20%0A%20%20%20%20%0A%20%20%20%20%0A%20%20%20%20%20%20%20%20%20%20%20%20var%20marker_cd525089f8aa4cf598ae97ba4219e442%20%3D%20L.marker%28%0A%20%20%20%20%20%20%20%20%20%20%20%20%20%20%20%20%5B-20.498886301649826%2C%20-47.41638826917823%5D%2C%0A%20%20%20%20%20%20%20%20%20%20%20%20%20%20%20%20%7B%7D%0A%20%20%20%20%20%20%20%20%20%20%20%20%29.addTo%28map_b01cf1a1555c460e94dc17c4291bc180%29%3B%0A%20%20%20%20%20%20%20%20%0A%20%20%20%20%0A%20%20%20%20%20%20%20%20%20%20%20%20var%20icon_00d464a610ca4390913fdc96cde49253%20%3D%20L.AwesomeMarkers.icon%28%0A%20%20%20%20%20%20%20%20%20%20%20%20%20%20%20%20%7B%22extraClasses%22%3A%20%22fa-rotate-0%22%2C%20%22icon%22%3A%20%22info-sign%22%2C%20%22iconColor%22%3A%20%22white%22%2C%20%22markerColor%22%3A%20%22green%22%2C%20%22prefix%22%3A%20%22glyphicon%22%7D%0A%20%20%20%20%20%20%20%20%20%20%20%20%29%3B%0A%20%20%20%20%20%20%20%20%20%20%20%20marker_cd525089f8aa4cf598ae97ba4219e442.setIcon%28icon_00d464a610ca4390913fdc96cde49253%29%3B%0A%20%20%20%20%20%20%20%20%0A%20%20%20%20%0A%20%20%20%20%20%20%20%20var%20popup_98ea5236409e47988fccc44c7fa139f5%20%3D%20L.popup%28%7B%22maxWidth%22%3A%20%22100%25%22%7D%29%3B%0A%0A%20%20%20%20%20%20%20%20%0A%20%20%20%20%20%20%20%20%20%20%20%20var%20html_eb4d1c5ba8ae45fbbdd85f88aeaee8cb%20%3D%20%24%28%60%3Cdiv%20id%3D%22html_eb4d1c5ba8ae45fbbdd85f88aeaee8cb%22%20style%3D%22width%3A%20100.0%25%3B%20height%3A%20100.0%25%3B%22%3E%3Ci%3E%20seller%20localization%20%3C/i%3E%3C/div%3E%60%29%5B0%5D%3B%0A%20%20%20%20%20%20%20%20%20%20%20%20popup_98ea5236409e47988fccc44c7fa139f5.setContent%28html_eb4d1c5ba8ae45fbbdd85f88aeaee8cb%29%3B%0A%20%20%20%20%20%20%20%20%0A%0A%20%20%20%20%20%20%20%20marker_cd525089f8aa4cf598ae97ba4219e442.bindPopup%28popup_98ea5236409e47988fccc44c7fa139f5%29%0A%20%20%20%20%20%20%20%20%3B%0A%0A%20%20%20%20%20%20%20%20%0A%20%20%20%20%0A%20%20%20%20%0A%20%20%20%20%20%20%20%20%20%20%20%20var%20marker_f57917162b26454f9eee9d03f1e38af3%20%3D%20L.marker%28%0A%20%20%20%20%20%20%20%20%20%20%20%20%20%20%20%20%5B-20.53661375955687%2C%20-47.433583875541835%5D%2C%0A%20%20%20%20%20%20%20%20%20%20%20%20%20%20%20%20%7B%7D%0A%20%20%20%20%20%20%20%20%20%20%20%20%29.addTo%28map_b01cf1a1555c460e94dc17c4291bc180%29%3B%0A%20%20%20%20%20%20%20%20%0A%20%20%20%20%0A%20%20%20%20%20%20%20%20%20%20%20%20var%20icon_6a82ae56603948ee8861861f866f954b%20%3D%20L.AwesomeMarkers.icon%28%0A%20%20%20%20%20%20%20%20%20%20%20%20%20%20%20%20%7B%22extraClasses%22%3A%20%22fa-rotate-0%22%2C%20%22icon%22%3A%20%22info-sign%22%2C%20%22iconColor%22%3A%20%22white%22%2C%20%22markerColor%22%3A%20%22green%22%2C%20%22prefix%22%3A%20%22glyphicon%22%7D%0A%20%20%20%20%20%20%20%20%20%20%20%20%29%3B%0A%20%20%20%20%20%20%20%20%20%20%20%20marker_f57917162b26454f9eee9d03f1e38af3.setIcon%28icon_6a82ae56603948ee8861861f866f954b%29%3B%0A%20%20%20%20%20%20%20%20%0A%20%20%20%20%0A%20%20%20%20%20%20%20%20var%20popup_a4cd35dc3b264d96b91ff705638722d0%20%3D%20L.popup%28%7B%22maxWidth%22%3A%20%22100%25%22%7D%29%3B%0A%0A%20%20%20%20%20%20%20%20%0A%20%20%20%20%20%20%20%20%20%20%20%20var%20html_4ef9391ebe79451fa7d948437b4c9305%20%3D%20%24%28%60%3Cdiv%20id%3D%22html_4ef9391ebe79451fa7d948437b4c9305%22%20style%3D%22width%3A%20100.0%25%3B%20height%3A%20100.0%25%3B%22%3E%3Ci%3E%20seller%20localization%20%3C/i%3E%3C/div%3E%60%29%5B0%5D%3B%0A%20%20%20%20%20%20%20%20%20%20%20%20popup_a4cd35dc3b264d96b91ff705638722d0.setContent%28html_4ef9391ebe79451fa7d948437b4c9305%29%3B%0A%20%20%20%20%20%20%20%20%0A%0A%20%20%20%20%20%20%20%20marker_f57917162b26454f9eee9d03f1e38af3.bindPopup%28popup_a4cd35dc3b264d96b91ff705638722d0%29%0A%20%20%20%20%20%20%20%20%3B%0A%0A%20%20%20%20%20%20%20%20%0A%20%20%20%20%0A%20%20%20%20%0A%20%20%20%20%20%20%20%20%20%20%20%20var%20marker_ca12da5c269b478fbf30735b35a0266a%20%3D%20L.marker%28%0A%20%20%20%20%20%20%20%20%20%20%20%20%20%20%20%20%5B-20.53661375955687%2C%20-47.433583875541835%5D%2C%0A%20%20%20%20%20%20%20%20%20%20%20%20%20%20%20%20%7B%7D%0A%20%20%20%20%20%20%20%20%20%20%20%20%29.addTo%28map_b01cf1a1555c460e94dc17c4291bc180%29%3B%0A%20%20%20%20%20%20%20%20%0A%20%20%20%20%0A%20%20%20%20%20%20%20%20%20%20%20%20var%20icon_50b7c5b76e394c1eb46d6dcb5847a543%20%3D%20L.AwesomeMarkers.icon%28%0A%20%20%20%20%20%20%20%20%20%20%20%20%20%20%20%20%7B%22extraClasses%22%3A%20%22fa-rotate-0%22%2C%20%22icon%22%3A%20%22info-sign%22%2C%20%22iconColor%22%3A%20%22white%22%2C%20%22markerColor%22%3A%20%22green%22%2C%20%22prefix%22%3A%20%22glyphicon%22%7D%0A%20%20%20%20%20%20%20%20%20%20%20%20%29%3B%0A%20%20%20%20%20%20%20%20%20%20%20%20marker_ca12da5c269b478fbf30735b35a0266a.setIcon%28icon_50b7c5b76e394c1eb46d6dcb5847a543%29%3B%0A%20%20%20%20%20%20%20%20%0A%20%20%20%20%0A%20%20%20%20%20%20%20%20var%20popup_1276b33962694fb3b61705a15fc8d663%20%3D%20L.popup%28%7B%22maxWidth%22%3A%20%22100%25%22%7D%29%3B%0A%0A%20%20%20%20%20%20%20%20%0A%20%20%20%20%20%20%20%20%20%20%20%20var%20html_e6b2281eed984765b02985ab718d2102%20%3D%20%24%28%60%3Cdiv%20id%3D%22html_e6b2281eed984765b02985ab718d2102%22%20style%3D%22width%3A%20100.0%25%3B%20height%3A%20100.0%25%3B%22%3E%3Ci%3E%20seller%20localization%20%3C/i%3E%3C/div%3E%60%29%5B0%5D%3B%0A%20%20%20%20%20%20%20%20%20%20%20%20popup_1276b33962694fb3b61705a15fc8d663.setContent%28html_e6b2281eed984765b02985ab718d2102%29%3B%0A%20%20%20%20%20%20%20%20%0A%0A%20%20%20%20%20%20%20%20marker_ca12da5c269b478fbf30735b35a0266a.bindPopup%28popup_1276b33962694fb3b61705a15fc8d663%29%0A%20%20%20%20%20%20%20%20%3B%0A%0A%20%20%20%20%20%20%20%20%0A%20%20%20%20%0A%20%20%20%20%0A%20%20%20%20%20%20%20%20%20%20%20%20var%20marker_603f75a3ae3f43a29cdeff616058056a%20%3D%20L.marker%28%0A%20%20%20%20%20%20%20%20%20%20%20%20%20%20%20%20%5B-20.553623627436437%2C%20-47.387359118805556%5D%2C%0A%20%20%20%20%20%20%20%20%20%20%20%20%20%20%20%20%7B%7D%0A%20%20%20%20%20%20%20%20%20%20%20%20%29.addTo%28map_b01cf1a1555c460e94dc17c4291bc180%29%3B%0A%20%20%20%20%20%20%20%20%0A%20%20%20%20%0A%20%20%20%20%20%20%20%20%20%20%20%20var%20icon_d2578f90314f40ebb85d71dde8c45a94%20%3D%20L.AwesomeMarkers.icon%28%0A%20%20%20%20%20%20%20%20%20%20%20%20%20%20%20%20%7B%22extraClasses%22%3A%20%22fa-rotate-0%22%2C%20%22icon%22%3A%20%22info-sign%22%2C%20%22iconColor%22%3A%20%22white%22%2C%20%22markerColor%22%3A%20%22green%22%2C%20%22prefix%22%3A%20%22glyphicon%22%7D%0A%20%20%20%20%20%20%20%20%20%20%20%20%29%3B%0A%20%20%20%20%20%20%20%20%20%20%20%20marker_603f75a3ae3f43a29cdeff616058056a.setIcon%28icon_d2578f90314f40ebb85d71dde8c45a94%29%3B%0A%20%20%20%20%20%20%20%20%0A%20%20%20%20%0A%20%20%20%20%20%20%20%20var%20popup_960f85deb15d4f429933e011189a6b79%20%3D%20L.popup%28%7B%22maxWidth%22%3A%20%22100%25%22%7D%29%3B%0A%0A%20%20%20%20%20%20%20%20%0A%20%20%20%20%20%20%20%20%20%20%20%20var%20html_5feedea0153b4a648078385c604be660%20%3D%20%24%28%60%3Cdiv%20id%3D%22html_5feedea0153b4a648078385c604be660%22%20style%3D%22width%3A%20100.0%25%3B%20height%3A%20100.0%25%3B%22%3E%3Ci%3E%20seller%20localization%20%3C/i%3E%3C/div%3E%60%29%5B0%5D%3B%0A%20%20%20%20%20%20%20%20%20%20%20%20popup_960f85deb15d4f429933e011189a6b79.setContent%28html_5feedea0153b4a648078385c604be660%29%3B%0A%20%20%20%20%20%20%20%20%0A%0A%20%20%20%20%20%20%20%20marker_603f75a3ae3f43a29cdeff616058056a.bindPopup%28popup_960f85deb15d4f429933e011189a6b79%29%0A%20%20%20%20%20%20%20%20%3B%0A%0A%20%20%20%20%20%20%20%20%0A%20%20%20%20%0A%20%20%20%20%0A%20%20%20%20%20%20%20%20%20%20%20%20var%20marker_63d5bdf824d54b7d848edcd7da70460c%20%3D%20L.marker%28%0A%20%20%20%20%20%20%20%20%20%20%20%20%20%20%20%20%5B-20.523653408304654%2C%20-47.364272201308715%5D%2C%0A%20%20%20%20%20%20%20%20%20%20%20%20%20%20%20%20%7B%7D%0A%20%20%20%20%20%20%20%20%20%20%20%20%29.addTo%28map_b01cf1a1555c460e94dc17c4291bc180%29%3B%0A%20%20%20%20%20%20%20%20%0A%20%20%20%20%0A%20%20%20%20%20%20%20%20%20%20%20%20var%20icon_cc309953e19847a79173948bbe535ffd%20%3D%20L.AwesomeMarkers.icon%28%0A%20%20%20%20%20%20%20%20%20%20%20%20%20%20%20%20%7B%22extraClasses%22%3A%20%22fa-rotate-0%22%2C%20%22icon%22%3A%20%22info-sign%22%2C%20%22iconColor%22%3A%20%22white%22%2C%20%22markerColor%22%3A%20%22green%22%2C%20%22prefix%22%3A%20%22glyphicon%22%7D%0A%20%20%20%20%20%20%20%20%20%20%20%20%29%3B%0A%20%20%20%20%20%20%20%20%20%20%20%20marker_63d5bdf824d54b7d848edcd7da70460c.setIcon%28icon_cc309953e19847a79173948bbe535ffd%29%3B%0A%20%20%20%20%20%20%20%20%0A%20%20%20%20%0A%20%20%20%20%20%20%20%20var%20popup_ba9b78ff9e2a4fb88881e59bee590833%20%3D%20L.popup%28%7B%22maxWidth%22%3A%20%22100%25%22%7D%29%3B%0A%0A%20%20%20%20%20%20%20%20%0A%20%20%20%20%20%20%20%20%20%20%20%20var%20html_c768d79624be427493c59560fbc0d53d%20%3D%20%24%28%60%3Cdiv%20id%3D%22html_c768d79624be427493c59560fbc0d53d%22%20style%3D%22width%3A%20100.0%25%3B%20height%3A%20100.0%25%3B%22%3E%3Ci%3E%20seller%20localization%20%3C/i%3E%3C/div%3E%60%29%5B0%5D%3B%0A%20%20%20%20%20%20%20%20%20%20%20%20popup_ba9b78ff9e2a4fb88881e59bee590833.setContent%28html_c768d79624be427493c59560fbc0d53d%29%3B%0A%20%20%20%20%20%20%20%20%0A%0A%20%20%20%20%20%20%20%20marker_63d5bdf824d54b7d848edcd7da70460c.bindPopup%28popup_ba9b78ff9e2a4fb88881e59bee590833%29%0A%20%20%20%20%20%20%20%20%3B%0A%0A%20%20%20%20%20%20%20%20%0A%20%20%20%20%0A%3C/script%3E onload=\"this.contentDocument.open();this.contentDocument.write(    decodeURIComponent(this.getAttribute('data-html')));this.contentDocument.close();\" allowfullscreen webkitallowfullscreen mozallowfullscreen></iframe></div></div>"
      ],
      "text/plain": [
       "<folium.folium.Map at 0x23fc9fbfc70>"
      ]
     },
     "execution_count": 17,
     "metadata": {},
     "output_type": "execute_result"
    }
   ],
   "source": [
    "client = '861eff4711a542e4b93843c6dd7febb0'\n",
    "category = 'beleza_saude'\n",
    "no_register = 5\n",
    "type = ''\n",
    "\n",
    "john = best_buy(client,category,no_register,type)\n",
    "\n",
    "john.best_map()"
   ]
  },
  {
   "cell_type": "code",
   "execution_count": 18,
   "metadata": {},
   "outputs": [
    {
     "data": {
      "text/html": [
       "<div style=\"width:100%;\"><div style=\"position:relative;width:100%;height:0;padding-bottom:60%;\"><span style=\"color:#565656\">Make this Notebook Trusted to load map: File -> Trust Notebook</span><iframe src=\"about:blank\" style=\"position:absolute;width:100%;height:100%;left:0;top:0;border:none !important;\" data-html=%3C%21DOCTYPE%20html%3E%0A%3Chead%3E%20%20%20%20%0A%20%20%20%20%3Cmeta%20http-equiv%3D%22content-type%22%20content%3D%22text/html%3B%20charset%3DUTF-8%22%20/%3E%0A%20%20%20%20%0A%20%20%20%20%20%20%20%20%3Cscript%3E%0A%20%20%20%20%20%20%20%20%20%20%20%20L_NO_TOUCH%20%3D%20false%3B%0A%20%20%20%20%20%20%20%20%20%20%20%20L_DISABLE_3D%20%3D%20false%3B%0A%20%20%20%20%20%20%20%20%3C/script%3E%0A%20%20%20%20%0A%20%20%20%20%3Cstyle%3Ehtml%2C%20body%20%7Bwidth%3A%20100%25%3Bheight%3A%20100%25%3Bmargin%3A%200%3Bpadding%3A%200%3B%7D%3C/style%3E%0A%20%20%20%20%3Cstyle%3E%23map%20%7Bposition%3Aabsolute%3Btop%3A0%3Bbottom%3A0%3Bright%3A0%3Bleft%3A0%3B%7D%3C/style%3E%0A%20%20%20%20%3Cscript%20src%3D%22https%3A//cdn.jsdelivr.net/npm/leaflet%401.6.0/dist/leaflet.js%22%3E%3C/script%3E%0A%20%20%20%20%3Cscript%20src%3D%22https%3A//code.jquery.com/jquery-1.12.4.min.js%22%3E%3C/script%3E%0A%20%20%20%20%3Cscript%20src%3D%22https%3A//maxcdn.bootstrapcdn.com/bootstrap/3.2.0/js/bootstrap.min.js%22%3E%3C/script%3E%0A%20%20%20%20%3Cscript%20src%3D%22https%3A//cdnjs.cloudflare.com/ajax/libs/Leaflet.awesome-markers/2.0.2/leaflet.awesome-markers.js%22%3E%3C/script%3E%0A%20%20%20%20%3Clink%20rel%3D%22stylesheet%22%20href%3D%22https%3A//cdn.jsdelivr.net/npm/leaflet%401.6.0/dist/leaflet.css%22/%3E%0A%20%20%20%20%3Clink%20rel%3D%22stylesheet%22%20href%3D%22https%3A//maxcdn.bootstrapcdn.com/bootstrap/3.2.0/css/bootstrap.min.css%22/%3E%0A%20%20%20%20%3Clink%20rel%3D%22stylesheet%22%20href%3D%22https%3A//maxcdn.bootstrapcdn.com/bootstrap/3.2.0/css/bootstrap-theme.min.css%22/%3E%0A%20%20%20%20%3Clink%20rel%3D%22stylesheet%22%20href%3D%22https%3A//maxcdn.bootstrapcdn.com/font-awesome/4.6.3/css/font-awesome.min.css%22/%3E%0A%20%20%20%20%3Clink%20rel%3D%22stylesheet%22%20href%3D%22https%3A//cdnjs.cloudflare.com/ajax/libs/Leaflet.awesome-markers/2.0.2/leaflet.awesome-markers.css%22/%3E%0A%20%20%20%20%3Clink%20rel%3D%22stylesheet%22%20href%3D%22https%3A//cdn.jsdelivr.net/gh/python-visualization/folium/folium/templates/leaflet.awesome.rotate.min.css%22/%3E%0A%20%20%20%20%0A%20%20%20%20%20%20%20%20%20%20%20%20%3Cmeta%20name%3D%22viewport%22%20content%3D%22width%3Ddevice-width%2C%0A%20%20%20%20%20%20%20%20%20%20%20%20%20%20%20%20initial-scale%3D1.0%2C%20maximum-scale%3D1.0%2C%20user-scalable%3Dno%22%20/%3E%0A%20%20%20%20%20%20%20%20%20%20%20%20%3Cstyle%3E%0A%20%20%20%20%20%20%20%20%20%20%20%20%20%20%20%20%23map_e099334629fd43d690a5d9a41852762b%20%7B%0A%20%20%20%20%20%20%20%20%20%20%20%20%20%20%20%20%20%20%20%20position%3A%20relative%3B%0A%20%20%20%20%20%20%20%20%20%20%20%20%20%20%20%20%20%20%20%20width%3A%20100.0%25%3B%0A%20%20%20%20%20%20%20%20%20%20%20%20%20%20%20%20%20%20%20%20height%3A%20100.0%25%3B%0A%20%20%20%20%20%20%20%20%20%20%20%20%20%20%20%20%20%20%20%20left%3A%200.0%25%3B%0A%20%20%20%20%20%20%20%20%20%20%20%20%20%20%20%20%20%20%20%20top%3A%200.0%25%3B%0A%20%20%20%20%20%20%20%20%20%20%20%20%20%20%20%20%7D%0A%20%20%20%20%20%20%20%20%20%20%20%20%3C/style%3E%0A%20%20%20%20%20%20%20%20%0A%3C/head%3E%0A%3Cbody%3E%20%20%20%20%0A%20%20%20%20%0A%20%20%20%20%20%20%20%20%20%20%20%20%3Cdiv%20class%3D%22folium-map%22%20id%3D%22map_e099334629fd43d690a5d9a41852762b%22%20%3E%3C/div%3E%0A%20%20%20%20%20%20%20%20%0A%3C/body%3E%0A%3Cscript%3E%20%20%20%20%0A%20%20%20%20%0A%20%20%20%20%20%20%20%20%20%20%20%20var%20map_e099334629fd43d690a5d9a41852762b%20%3D%20L.map%28%0A%20%20%20%20%20%20%20%20%20%20%20%20%20%20%20%20%22map_e099334629fd43d690a5d9a41852762b%22%2C%0A%20%20%20%20%20%20%20%20%20%20%20%20%20%20%20%20%7B%0A%20%20%20%20%20%20%20%20%20%20%20%20%20%20%20%20%20%20%20%20center%3A%20%5B-20.498488755380297%2C%20-47.396929485900976%5D%2C%0A%20%20%20%20%20%20%20%20%20%20%20%20%20%20%20%20%20%20%20%20crs%3A%20L.CRS.EPSG3857%2C%0A%20%20%20%20%20%20%20%20%20%20%20%20%20%20%20%20%20%20%20%20zoom%3A%207%2C%0A%20%20%20%20%20%20%20%20%20%20%20%20%20%20%20%20%20%20%20%20zoomControl%3A%20true%2C%0A%20%20%20%20%20%20%20%20%20%20%20%20%20%20%20%20%20%20%20%20preferCanvas%3A%20false%2C%0A%20%20%20%20%20%20%20%20%20%20%20%20%20%20%20%20%20%20%20%20APIKey%3A%20%22AjPvKPz1j2wCaJdCMYdWL3XaRpCMhbdyhArjG7VIMHflQuqcZY4HrMnn9vGhJWQC%22%2C%0A%20%20%20%20%20%20%20%20%20%20%20%20%20%20%20%20%7D%0A%20%20%20%20%20%20%20%20%20%20%20%20%29%3B%0A%0A%20%20%20%20%20%20%20%20%20%20%20%20%0A%0A%20%20%20%20%20%20%20%20%0A%20%20%20%20%0A%20%20%20%20%20%20%20%20%20%20%20%20var%20tile_layer_be0d924f54114c44a2d544d75ce63b93%20%3D%20L.tileLayer%28%0A%20%20%20%20%20%20%20%20%20%20%20%20%20%20%20%20%22https%3A//%7Bs%7D.tile.openstreetmap.org/%7Bz%7D/%7Bx%7D/%7By%7D.png%22%2C%0A%20%20%20%20%20%20%20%20%20%20%20%20%20%20%20%20%7B%22attribution%22%3A%20%22Data%20by%20%5Cu0026copy%3B%20%5Cu003ca%20href%3D%5C%22http%3A//openstreetmap.org%5C%22%5Cu003eOpenStreetMap%5Cu003c/a%5Cu003e%2C%20under%20%5Cu003ca%20href%3D%5C%22http%3A//www.openstreetmap.org/copyright%5C%22%5Cu003eODbL%5Cu003c/a%5Cu003e.%22%2C%20%22detectRetina%22%3A%20false%2C%20%22maxNativeZoom%22%3A%2018%2C%20%22maxZoom%22%3A%2018%2C%20%22minZoom%22%3A%200%2C%20%22noWrap%22%3A%20false%2C%20%22opacity%22%3A%201%2C%20%22subdomains%22%3A%20%22abc%22%2C%20%22tms%22%3A%20false%7D%0A%20%20%20%20%20%20%20%20%20%20%20%20%29.addTo%28map_e099334629fd43d690a5d9a41852762b%29%3B%0A%20%20%20%20%20%20%20%20%0A%20%20%20%20%0A%20%20%20%20%20%20%20%20%20%20%20%20var%20marker_2711debb914d4c5b91bb67e337f14623%20%3D%20L.marker%28%0A%20%20%20%20%20%20%20%20%20%20%20%20%20%20%20%20%5B-20.498488755380297%2C%20-47.396929485900976%5D%2C%0A%20%20%20%20%20%20%20%20%20%20%20%20%20%20%20%20%7B%7D%0A%20%20%20%20%20%20%20%20%20%20%20%20%29.addTo%28map_e099334629fd43d690a5d9a41852762b%29%3B%0A%20%20%20%20%20%20%20%20%0A%20%20%20%20%0A%20%20%20%20%20%20%20%20var%20popup_6146c839460646688e8271d4286c48e0%20%3D%20L.popup%28%7B%22maxWidth%22%3A%20%22100%25%22%7D%29%3B%0A%0A%20%20%20%20%20%20%20%20%0A%20%20%20%20%20%20%20%20%20%20%20%20var%20html_a887a5948b48416d9cdfdd8a99cb0d30%20%3D%20%24%28%60%3Cdiv%20id%3D%22html_a887a5948b48416d9cdfdd8a99cb0d30%22%20style%3D%22width%3A%20100.0%25%3B%20height%3A%20100.0%25%3B%22%3E%3Ci%3E%20customer%20localization%20%3C/i%3E%3C/div%3E%60%29%5B0%5D%3B%0A%20%20%20%20%20%20%20%20%20%20%20%20popup_6146c839460646688e8271d4286c48e0.setContent%28html_a887a5948b48416d9cdfdd8a99cb0d30%29%3B%0A%20%20%20%20%20%20%20%20%0A%0A%20%20%20%20%20%20%20%20marker_2711debb914d4c5b91bb67e337f14623.bindPopup%28popup_6146c839460646688e8271d4286c48e0%29%0A%20%20%20%20%20%20%20%20%3B%0A%0A%20%20%20%20%20%20%20%20%0A%20%20%20%20%0A%20%20%20%20%0A%20%20%20%20%20%20%20%20%20%20%20%20var%20marker_d29bb283990e447785349a69b27ebc36%20%3D%20L.marker%28%0A%20%20%20%20%20%20%20%20%20%20%20%20%20%20%20%20%5B-23.484875111923653%2C%20-46.62457520306331%5D%2C%0A%20%20%20%20%20%20%20%20%20%20%20%20%20%20%20%20%7B%7D%0A%20%20%20%20%20%20%20%20%20%20%20%20%29.addTo%28map_e099334629fd43d690a5d9a41852762b%29%3B%0A%20%20%20%20%20%20%20%20%0A%20%20%20%20%0A%20%20%20%20%20%20%20%20%20%20%20%20var%20icon_2cffc998a6ef4667b5296143c76f02e3%20%3D%20L.AwesomeMarkers.icon%28%0A%20%20%20%20%20%20%20%20%20%20%20%20%20%20%20%20%7B%22extraClasses%22%3A%20%22fa-rotate-0%22%2C%20%22icon%22%3A%20%22info-sign%22%2C%20%22iconColor%22%3A%20%22white%22%2C%20%22markerColor%22%3A%20%22green%22%2C%20%22prefix%22%3A%20%22glyphicon%22%7D%0A%20%20%20%20%20%20%20%20%20%20%20%20%29%3B%0A%20%20%20%20%20%20%20%20%20%20%20%20marker_d29bb283990e447785349a69b27ebc36.setIcon%28icon_2cffc998a6ef4667b5296143c76f02e3%29%3B%0A%20%20%20%20%20%20%20%20%0A%20%20%20%20%0A%20%20%20%20%20%20%20%20var%20popup_3c745eb9f53e43d1bc4a3d7e3cea2de1%20%3D%20L.popup%28%7B%22maxWidth%22%3A%20%22100%25%22%7D%29%3B%0A%0A%20%20%20%20%20%20%20%20%0A%20%20%20%20%20%20%20%20%20%20%20%20var%20html_d372edaa915a433a8e5e528c2ffa8dd8%20%3D%20%24%28%60%3Cdiv%20id%3D%22html_d372edaa915a433a8e5e528c2ffa8dd8%22%20style%3D%22width%3A%20100.0%25%3B%20height%3A%20100.0%25%3B%22%3E%3Ci%3E%20seller%20localization%20%3C/i%3E%3C/div%3E%60%29%5B0%5D%3B%0A%20%20%20%20%20%20%20%20%20%20%20%20popup_3c745eb9f53e43d1bc4a3d7e3cea2de1.setContent%28html_d372edaa915a433a8e5e528c2ffa8dd8%29%3B%0A%20%20%20%20%20%20%20%20%0A%0A%20%20%20%20%20%20%20%20marker_d29bb283990e447785349a69b27ebc36.bindPopup%28popup_3c745eb9f53e43d1bc4a3d7e3cea2de1%29%0A%20%20%20%20%20%20%20%20%3B%0A%0A%20%20%20%20%20%20%20%20%0A%20%20%20%20%0A%20%20%20%20%0A%20%20%20%20%20%20%20%20%20%20%20%20var%20marker_9d7a24cd573544a8a3d505d123a0ccbd%20%3D%20L.marker%28%0A%20%20%20%20%20%20%20%20%20%20%20%20%20%20%20%20%5B-23.52385994109238%2C%20-46.695805542639675%5D%2C%0A%20%20%20%20%20%20%20%20%20%20%20%20%20%20%20%20%7B%7D%0A%20%20%20%20%20%20%20%20%20%20%20%20%29.addTo%28map_e099334629fd43d690a5d9a41852762b%29%3B%0A%20%20%20%20%20%20%20%20%0A%20%20%20%20%0A%20%20%20%20%20%20%20%20%20%20%20%20var%20icon_94a7c148085b4b869ff749245ff54d3b%20%3D%20L.AwesomeMarkers.icon%28%0A%20%20%20%20%20%20%20%20%20%20%20%20%20%20%20%20%7B%22extraClasses%22%3A%20%22fa-rotate-0%22%2C%20%22icon%22%3A%20%22info-sign%22%2C%20%22iconColor%22%3A%20%22white%22%2C%20%22markerColor%22%3A%20%22green%22%2C%20%22prefix%22%3A%20%22glyphicon%22%7D%0A%20%20%20%20%20%20%20%20%20%20%20%20%29%3B%0A%20%20%20%20%20%20%20%20%20%20%20%20marker_9d7a24cd573544a8a3d505d123a0ccbd.setIcon%28icon_94a7c148085b4b869ff749245ff54d3b%29%3B%0A%20%20%20%20%20%20%20%20%0A%20%20%20%20%0A%20%20%20%20%20%20%20%20var%20popup_91cd62d1c1324d458ca2a4b83a37229e%20%3D%20L.popup%28%7B%22maxWidth%22%3A%20%22100%25%22%7D%29%3B%0A%0A%20%20%20%20%20%20%20%20%0A%20%20%20%20%20%20%20%20%20%20%20%20var%20html_0ded1fe4732a46e2b9c7fec2ecc8aebb%20%3D%20%24%28%60%3Cdiv%20id%3D%22html_0ded1fe4732a46e2b9c7fec2ecc8aebb%22%20style%3D%22width%3A%20100.0%25%3B%20height%3A%20100.0%25%3B%22%3E%3Ci%3E%20seller%20localization%20%3C/i%3E%3C/div%3E%60%29%5B0%5D%3B%0A%20%20%20%20%20%20%20%20%20%20%20%20popup_91cd62d1c1324d458ca2a4b83a37229e.setContent%28html_0ded1fe4732a46e2b9c7fec2ecc8aebb%29%3B%0A%20%20%20%20%20%20%20%20%0A%0A%20%20%20%20%20%20%20%20marker_9d7a24cd573544a8a3d505d123a0ccbd.bindPopup%28popup_91cd62d1c1324d458ca2a4b83a37229e%29%0A%20%20%20%20%20%20%20%20%3B%0A%0A%20%20%20%20%20%20%20%20%0A%20%20%20%20%0A%20%20%20%20%0A%20%20%20%20%20%20%20%20%20%20%20%20var%20marker_41c273088aaf4b49802d1dc5fc2c4057%20%3D%20L.marker%28%0A%20%20%20%20%20%20%20%20%20%20%20%20%20%20%20%20%5B-22.420097969784962%2C%20-46.96809945314421%5D%2C%0A%20%20%20%20%20%20%20%20%20%20%20%20%20%20%20%20%7B%7D%0A%20%20%20%20%20%20%20%20%20%20%20%20%29.addTo%28map_e099334629fd43d690a5d9a41852762b%29%3B%0A%20%20%20%20%20%20%20%20%0A%20%20%20%20%0A%20%20%20%20%20%20%20%20%20%20%20%20var%20icon_873206f86ae8419ebeee7617cda5ff14%20%3D%20L.AwesomeMarkers.icon%28%0A%20%20%20%20%20%20%20%20%20%20%20%20%20%20%20%20%7B%22extraClasses%22%3A%20%22fa-rotate-0%22%2C%20%22icon%22%3A%20%22info-sign%22%2C%20%22iconColor%22%3A%20%22white%22%2C%20%22markerColor%22%3A%20%22green%22%2C%20%22prefix%22%3A%20%22glyphicon%22%7D%0A%20%20%20%20%20%20%20%20%20%20%20%20%29%3B%0A%20%20%20%20%20%20%20%20%20%20%20%20marker_41c273088aaf4b49802d1dc5fc2c4057.setIcon%28icon_873206f86ae8419ebeee7617cda5ff14%29%3B%0A%20%20%20%20%20%20%20%20%0A%20%20%20%20%0A%20%20%20%20%20%20%20%20var%20popup_039d25b401974873986337893b0c7f6a%20%3D%20L.popup%28%7B%22maxWidth%22%3A%20%22100%25%22%7D%29%3B%0A%0A%20%20%20%20%20%20%20%20%0A%20%20%20%20%20%20%20%20%20%20%20%20var%20html_7a0c1d41daf042a29aa286279360aa57%20%3D%20%24%28%60%3Cdiv%20id%3D%22html_7a0c1d41daf042a29aa286279360aa57%22%20style%3D%22width%3A%20100.0%25%3B%20height%3A%20100.0%25%3B%22%3E%3Ci%3E%20seller%20localization%20%3C/i%3E%3C/div%3E%60%29%5B0%5D%3B%0A%20%20%20%20%20%20%20%20%20%20%20%20popup_039d25b401974873986337893b0c7f6a.setContent%28html_7a0c1d41daf042a29aa286279360aa57%29%3B%0A%20%20%20%20%20%20%20%20%0A%0A%20%20%20%20%20%20%20%20marker_41c273088aaf4b49802d1dc5fc2c4057.bindPopup%28popup_039d25b401974873986337893b0c7f6a%29%0A%20%20%20%20%20%20%20%20%3B%0A%0A%20%20%20%20%20%20%20%20%0A%20%20%20%20%0A%20%20%20%20%0A%20%20%20%20%20%20%20%20%20%20%20%20var%20marker_ae7c394bc7434f02b5144fac8c061ad4%20%3D%20L.marker%28%0A%20%20%20%20%20%20%20%20%20%20%20%20%20%20%20%20%5B-22.419193810143028%2C%20-46.967170076237004%5D%2C%0A%20%20%20%20%20%20%20%20%20%20%20%20%20%20%20%20%7B%7D%0A%20%20%20%20%20%20%20%20%20%20%20%20%29.addTo%28map_e099334629fd43d690a5d9a41852762b%29%3B%0A%20%20%20%20%20%20%20%20%0A%20%20%20%20%0A%20%20%20%20%20%20%20%20%20%20%20%20var%20icon_190e151e281a46ee8ca93041c51aeb0d%20%3D%20L.AwesomeMarkers.icon%28%0A%20%20%20%20%20%20%20%20%20%20%20%20%20%20%20%20%7B%22extraClasses%22%3A%20%22fa-rotate-0%22%2C%20%22icon%22%3A%20%22info-sign%22%2C%20%22iconColor%22%3A%20%22white%22%2C%20%22markerColor%22%3A%20%22green%22%2C%20%22prefix%22%3A%20%22glyphicon%22%7D%0A%20%20%20%20%20%20%20%20%20%20%20%20%29%3B%0A%20%20%20%20%20%20%20%20%20%20%20%20marker_ae7c394bc7434f02b5144fac8c061ad4.setIcon%28icon_190e151e281a46ee8ca93041c51aeb0d%29%3B%0A%20%20%20%20%20%20%20%20%0A%20%20%20%20%0A%20%20%20%20%20%20%20%20var%20popup_8310782a53004d489d307fa729cee9cc%20%3D%20L.popup%28%7B%22maxWidth%22%3A%20%22100%25%22%7D%29%3B%0A%0A%20%20%20%20%20%20%20%20%0A%20%20%20%20%20%20%20%20%20%20%20%20var%20html_fb0ffee1835640ad862b68a14f937897%20%3D%20%24%28%60%3Cdiv%20id%3D%22html_fb0ffee1835640ad862b68a14f937897%22%20style%3D%22width%3A%20100.0%25%3B%20height%3A%20100.0%25%3B%22%3E%3Ci%3E%20seller%20localization%20%3C/i%3E%3C/div%3E%60%29%5B0%5D%3B%0A%20%20%20%20%20%20%20%20%20%20%20%20popup_8310782a53004d489d307fa729cee9cc.setContent%28html_fb0ffee1835640ad862b68a14f937897%29%3B%0A%20%20%20%20%20%20%20%20%0A%0A%20%20%20%20%20%20%20%20marker_ae7c394bc7434f02b5144fac8c061ad4.bindPopup%28popup_8310782a53004d489d307fa729cee9cc%29%0A%20%20%20%20%20%20%20%20%3B%0A%0A%20%20%20%20%20%20%20%20%0A%20%20%20%20%0A%20%20%20%20%0A%20%20%20%20%20%20%20%20%20%20%20%20var%20marker_2ae3017567bb4fd79db1ff07cad4a34b%20%3D%20L.marker%28%0A%20%20%20%20%20%20%20%20%20%20%20%20%20%20%20%20%5B-23.41289154834567%2C%20-51.980249580348975%5D%2C%0A%20%20%20%20%20%20%20%20%20%20%20%20%20%20%20%20%7B%7D%0A%20%20%20%20%20%20%20%20%20%20%20%20%29.addTo%28map_e099334629fd43d690a5d9a41852762b%29%3B%0A%20%20%20%20%20%20%20%20%0A%20%20%20%20%0A%20%20%20%20%20%20%20%20%20%20%20%20var%20icon_7276c6d1c95c4142baf6d4b5620ed2c9%20%3D%20L.AwesomeMarkers.icon%28%0A%20%20%20%20%20%20%20%20%20%20%20%20%20%20%20%20%7B%22extraClasses%22%3A%20%22fa-rotate-0%22%2C%20%22icon%22%3A%20%22info-sign%22%2C%20%22iconColor%22%3A%20%22white%22%2C%20%22markerColor%22%3A%20%22green%22%2C%20%22prefix%22%3A%20%22glyphicon%22%7D%0A%20%20%20%20%20%20%20%20%20%20%20%20%29%3B%0A%20%20%20%20%20%20%20%20%20%20%20%20marker_2ae3017567bb4fd79db1ff07cad4a34b.setIcon%28icon_7276c6d1c95c4142baf6d4b5620ed2c9%29%3B%0A%20%20%20%20%20%20%20%20%0A%20%20%20%20%0A%20%20%20%20%20%20%20%20var%20popup_a25b83be50fd4a70a6953f1b8a0dd6c9%20%3D%20L.popup%28%7B%22maxWidth%22%3A%20%22100%25%22%7D%29%3B%0A%0A%20%20%20%20%20%20%20%20%0A%20%20%20%20%20%20%20%20%20%20%20%20var%20html_a4193a77c28b445fa614c9f70363733c%20%3D%20%24%28%60%3Cdiv%20id%3D%22html_a4193a77c28b445fa614c9f70363733c%22%20style%3D%22width%3A%20100.0%25%3B%20height%3A%20100.0%25%3B%22%3E%3Ci%3E%20seller%20localization%20%3C/i%3E%3C/div%3E%60%29%5B0%5D%3B%0A%20%20%20%20%20%20%20%20%20%20%20%20popup_a25b83be50fd4a70a6953f1b8a0dd6c9.setContent%28html_a4193a77c28b445fa614c9f70363733c%29%3B%0A%20%20%20%20%20%20%20%20%0A%0A%20%20%20%20%20%20%20%20marker_2ae3017567bb4fd79db1ff07cad4a34b.bindPopup%28popup_a25b83be50fd4a70a6953f1b8a0dd6c9%29%0A%20%20%20%20%20%20%20%20%3B%0A%0A%20%20%20%20%20%20%20%20%0A%20%20%20%20%0A%20%20%20%20%0A%20%20%20%20%20%20%20%20%20%20%20%20var%20marker_c210ce57dc4147ff86bbed27300003a7%20%3D%20L.marker%28%0A%20%20%20%20%20%20%20%20%20%20%20%20%20%20%20%20%5B-22.158801244993846%2C%20-49.96150594898236%5D%2C%0A%20%20%20%20%20%20%20%20%20%20%20%20%20%20%20%20%7B%7D%0A%20%20%20%20%20%20%20%20%20%20%20%20%29.addTo%28map_e099334629fd43d690a5d9a41852762b%29%3B%0A%20%20%20%20%20%20%20%20%0A%20%20%20%20%0A%20%20%20%20%20%20%20%20%20%20%20%20var%20icon_29ae9dd93e5f42ae91de0584017860c5%20%3D%20L.AwesomeMarkers.icon%28%0A%20%20%20%20%20%20%20%20%20%20%20%20%20%20%20%20%7B%22extraClasses%22%3A%20%22fa-rotate-0%22%2C%20%22icon%22%3A%20%22info-sign%22%2C%20%22iconColor%22%3A%20%22white%22%2C%20%22markerColor%22%3A%20%22green%22%2C%20%22prefix%22%3A%20%22glyphicon%22%7D%0A%20%20%20%20%20%20%20%20%20%20%20%20%29%3B%0A%20%20%20%20%20%20%20%20%20%20%20%20marker_c210ce57dc4147ff86bbed27300003a7.setIcon%28icon_29ae9dd93e5f42ae91de0584017860c5%29%3B%0A%20%20%20%20%20%20%20%20%0A%20%20%20%20%0A%20%20%20%20%20%20%20%20var%20popup_c407ce6cd7d342c2aa49ec106ad59d25%20%3D%20L.popup%28%7B%22maxWidth%22%3A%20%22100%25%22%7D%29%3B%0A%0A%20%20%20%20%20%20%20%20%0A%20%20%20%20%20%20%20%20%20%20%20%20var%20html_e2fb69938fcb46bd91712535dade5006%20%3D%20%24%28%60%3Cdiv%20id%3D%22html_e2fb69938fcb46bd91712535dade5006%22%20style%3D%22width%3A%20100.0%25%3B%20height%3A%20100.0%25%3B%22%3E%3Ci%3E%20seller%20localization%20%3C/i%3E%3C/div%3E%60%29%5B0%5D%3B%0A%20%20%20%20%20%20%20%20%20%20%20%20popup_c407ce6cd7d342c2aa49ec106ad59d25.setContent%28html_e2fb69938fcb46bd91712535dade5006%29%3B%0A%20%20%20%20%20%20%20%20%0A%0A%20%20%20%20%20%20%20%20marker_c210ce57dc4147ff86bbed27300003a7.bindPopup%28popup_c407ce6cd7d342c2aa49ec106ad59d25%29%0A%20%20%20%20%20%20%20%20%3B%0A%0A%20%20%20%20%20%20%20%20%0A%20%20%20%20%0A%3C/script%3E onload=\"this.contentDocument.open();this.contentDocument.write(    decodeURIComponent(this.getAttribute('data-html')));this.contentDocument.close();\" allowfullscreen webkitallowfullscreen mozallowfullscreen></iframe></div></div>"
      ],
      "text/plain": [
       "<folium.folium.Map at 0x23fc9f8ba90>"
      ]
     },
     "execution_count": 18,
     "metadata": {},
     "output_type": "execute_result"
    }
   ],
   "source": [
    "client = '861eff4711a542e4b93843c6dd7febb0'\n",
    "category = 'beleza_saude'\n",
    "no_register = 5\n",
    "type = 'best_price'\n",
    "\n",
    "john = best_buy(client,category,no_register,type)\n",
    "\n",
    "john.best_map()"
   ]
  }
 ],
 "metadata": {
  "interpreter": {
   "hash": "56ff1c1c3135541108fe132e771aa45bbbf614a992258041b003da88d6e3d5e1"
  },
  "kernelspec": {
   "display_name": "Python 3.9.0 64-bit",
   "language": "python",
   "name": "python3"
  },
  "language_info": {
   "codemirror_mode": {
    "name": "ipython",
    "version": 3
   },
   "file_extension": ".py",
   "mimetype": "text/x-python",
   "name": "python",
   "nbconvert_exporter": "python",
   "pygments_lexer": "ipython3",
   "version": "3.9.0"
  }
 },
 "nbformat": 4,
 "nbformat_minor": 2
}
